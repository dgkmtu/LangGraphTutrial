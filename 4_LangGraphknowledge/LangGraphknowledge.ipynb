{
  "nbformat": 4,
  "nbformat_minor": 0,
  "metadata": {
    "colab": {
      "provenance": []
    },
    "kernelspec": {
      "name": "python3",
      "display_name": "Python 3"
    },
    "language_info": {
      "name": "python"
    }
  },
  "cells": [
    {
      "cell_type": "code",
      "execution_count": null,
      "metadata": {
        "id": "JqdE0bbLNCzP"
      },
      "outputs": [],
      "source": [
        "!pip install chromadb"
      ]
    },
    {
      "cell_type": "code",
      "source": [
        "!pip install -U langchain-community langchain langchain-openai langgraph"
      ],
      "metadata": {
        "id": "_UYd6zW7NFJm"
      },
      "execution_count": null,
      "outputs": []
    },
    {
      "cell_type": "code",
      "source": [
        "import os\n",
        "os.environ[\"OPENAI_API_KEY\"] = \"YOUR_API_KEY\""
      ],
      "metadata": {
        "id": "oP5bOGybNFry"
      },
      "execution_count": null,
      "outputs": []
    },
    {
      "cell_type": "code",
      "source": [
        "import sqlite3\n",
        "\n",
        "# データベース作成＆接続\n",
        "conn = sqlite3.connect(\"knowledge.db\")\n",
        "c = conn.cursor()\n",
        "\n",
        "# ナレッジテーブル作成\n",
        "c.execute('''\n",
        "CREATE TABLE IF NOT EXISTS knowledge (\n",
        "    id INTEGER PRIMARY KEY AUTOINCREMENT,\n",
        "    title TEXT,\n",
        "    content TEXT\n",
        ")\n",
        "''')\n",
        "\n",
        "# 初期ナレッジを挿入\n",
        "c.executemany('''\n",
        "INSERT INTO knowledge (title, content) VALUES (?, ?)\n",
        "''', [\n",
        "    (\"LangChainとは\", \"LangChainはLLMのチェーン構築フレームワークです。\"),\n",
        "    (\"RAGとは\", \"RAGはRetrieval-Augmented Generationの略で、検索と生成を組み合わせます。\")\n",
        "])\n",
        "conn.commit()\n",
        "conn.close()"
      ],
      "metadata": {
        "id": "MOkNNhohNIE-"
      },
      "execution_count": null,
      "outputs": []
    },
    {
      "cell_type": "code",
      "source": [
        "from langgraph.graph import StateGraph, END\n",
        "from langgraph.graph.message import add_messages\n",
        "from langchain_core.runnables import RunnableLambda\n",
        "from langchain_community.vectorstores import Chroma\n",
        "from langchain.embeddings import OpenAIEmbeddings\n",
        "from langchain.text_splitter import CharacterTextSplitter\n",
        "from langchain.schema import Document\n",
        "from langchain_core.messages import HumanMessage\n",
        "from langchain_openai import ChatOpenAI\n",
        "from typing import TypedDict, Literal, Optional\n",
        "from sklearn.metrics.pairwise import cosine_similarity\n",
        "import numpy as np"
      ],
      "metadata": {
        "id": "UdOTvZhENKJ0"
      },
      "execution_count": null,
      "outputs": []
    },
    {
      "cell_type": "code",
      "source": [
        "class State(TypedDict):\n",
        "    input: str\n",
        "    intent: Optional[Literal[\"rag\", \"llm\"]]\n",
        "    response: Optional[str]\n",
        "    quality_ok: Optional[bool]"
      ],
      "metadata": {
        "id": "vSOgMVAjNMcX"
      },
      "execution_count": null,
      "outputs": []
    },
    {
      "cell_type": "code",
      "source": [
        "llm = ChatOpenAI(model=\"gpt-4o-mini\")"
      ],
      "metadata": {
        "id": "qVS85Tk_NN-e"
      },
      "execution_count": null,
      "outputs": []
    },
    {
      "cell_type": "code",
      "source": [
        "# SQLiteからデータ取得\n",
        "conn = sqlite3.connect(\"knowledge.db\")\n",
        "c = conn.cursor()\n",
        "rows = c.execute(\"SELECT title, content FROM knowledge\").fetchall()\n",
        "conn.close()\n",
        "\n",
        "# LangChain用ドキュメントに変換\n",
        "documents = [Document(page_content=f\"{title}\\n{content}\") for title, content in rows]\n",
        "\n",
        "# 分割してベクトル化\n",
        "text_splitter = CharacterTextSplitter(chunk_size=500, chunk_overlap=50)\n",
        "docs = text_splitter.split_documents(documents)\n",
        "embedding = OpenAIEmbeddings()\n",
        "\n",
        "# ベクトルストア作成\n",
        "vectorstore = Chroma.from_documents(docs, embedding, persist_directory=\"./chroma_db\")"
      ],
      "metadata": {
        "id": "xt8uvWPwNPrS"
      },
      "execution_count": null,
      "outputs": []
    },
    {
      "cell_type": "code",
      "source": [
        "def is_duplicate_knowledge(new_content: str, threshold: float = 0.85) -> bool:\n",
        "  # 既存知識取得\n",
        "  conn = sqlite3.connect(\"knowledge.db\")\n",
        "  c = conn.cursor()\n",
        "  rows = c.execute(\"SELECT title, content FROM knowledge\").fetchall()\n",
        "  conn.close()\n",
        "\n",
        "  if not rows:\n",
        "    return False\n",
        "\n",
        "  # 文章をDocumentにしてベクトル化\n",
        "  documents = [Document(page_content=f\"{title}\\n{content}\") for title, content in rows]\n",
        "  splitter = CharacterTextSplitter(chunk_size=500, chunk_overlap=50)\n",
        "  docs = splitter.split_documents(documents)\n",
        "  docs_contents = [doc.page_content for doc in docs]\n",
        "\n",
        "  # ベクトル化\n",
        "  existing_vecs = embedding.embed_documents(docs_contents)\n",
        "  new_vec = embedding.embed_query(new_content)\n",
        "\n",
        "  # 類似度計算\n",
        "  sims = cosine_similarity([new_vec], existing_vecs)[0]\n",
        "  max_sim = np.max(sims)\n",
        "\n",
        "  return max_sim >= threshold"
      ],
      "metadata": {
        "id": "gGSz1DtnNZiA"
      },
      "execution_count": null,
      "outputs": []
    },
    {
      "cell_type": "code",
      "source": [
        "# ノード定義\n",
        "def classify_intent(state):\n",
        "  query = state[\"input\"]\n",
        "\n",
        "  # 検索によって知識ベースにどの程度マッチするか確認\n",
        "  retriever = vectorstore.as_retriever(search_kwargs={\"k\": 1})\n",
        "  retrieved_docs = retriever.invoke(query)\n",
        "\n",
        "  # 類似度スコア付きで取得できるならスコアで判断（今回は取得できない想定なのでテキストで判断）\n",
        "  if retrieved_docs and len(retrieved_docs) > 0:\n",
        "    # 簡易的に文字長で「それなりの知識がある」とみなす\n",
        "    if len(retrieved_docs[0].page_content) > 30:\n",
        "      state[\"intent\"] = \"rag\"\n",
        "    else:\n",
        "      state[\"intent\"] = \"llm\"\n",
        "  else:\n",
        "    state[\"intent\"] = \"llm\"\n",
        "\n",
        "  return state\n",
        "\n",
        "def rag_node(state):\n",
        "  query = state[\"input\"]\n",
        "  retriever = vectorstore.as_retriever(search_kwargs={\"k\": 1})\n",
        "  retrieved_docs = retriever.invoke(query)\n",
        "\n",
        "  # もっとも関連性の高い文章を返却\n",
        "  retrieved_text = (\n",
        "    retrieved_docs[0].page_content if retrieved_docs else \"該当する情報が見つかりませんでした。\"\n",
        "  )\n",
        "  return {\"response\": f\"[RAG] {retrieved_text}\"}\n",
        "\n",
        "def llm_node(state):\n",
        "    user_input = state.get(\"input\", \"\")\n",
        "    messages = [HumanMessage(content=user_input)]\n",
        "    response = llm.invoke(messages)\n",
        "    answer = response.content\n",
        "\n",
        "    # 重複チェック\n",
        "    if is_duplicate_knowledge(answer):\n",
        "        response_text = f\"（※この内容は既にナレッジとして登録されています）\\n{answer}\"\n",
        "    else:\n",
        "        # DB保存\n",
        "        conn = sqlite3.connect(\"knowledge.db\")\n",
        "        c = conn.cursor()\n",
        "        c.execute(\"INSERT INTO knowledge (title, content) VALUES (?, ?)\", (user_input, answer))\n",
        "        conn.commit()\n",
        "        conn.close()\n",
        "\n",
        "        # Chromaへの追加\n",
        "        new_doc = Document(page_content=f\"{user_input}\\n{answer}\")\n",
        "        vectorstore.add_documents([new_doc])\n",
        "\n",
        "        response_text = answer\n",
        "\n",
        "    return {\"response\": response_text}\n",
        "\n",
        "def evaluate_answer(state):\n",
        "  resp = state[\"response\"]\n",
        "  if \" (\" in resp:\n",
        "    # 品質低いと見なす\n",
        "    state[\"quality_ok\"] = False\n",
        "  else:\n",
        "    state[\"quality_ok\"] = True\n",
        "  return state\n",
        "\n",
        "def loop_or_end(state):\n",
        "  return \"repeat\" if not state[\"quality_ok\"] else \"end\"\n"
      ],
      "metadata": {
        "id": "PPc_eEVuOvIA"
      },
      "execution_count": null,
      "outputs": []
    },
    {
      "cell_type": "code",
      "source": [
        "# --- グラフ構築 ---\n",
        "workflow = StateGraph(State)\n",
        "workflow.set_entry_point(\"classify\")\n",
        "workflow.add_node(\"classify\", RunnableLambda(classify_intent))\n",
        "workflow.add_node(\"rag\", RunnableLambda(rag_node))\n",
        "workflow.add_node(\"llm\", RunnableLambda(llm_node))\n",
        "workflow.add_node(\"evaluate\", RunnableLambda(evaluate_answer))\n",
        "\n",
        "# 分岐と遷移\n",
        "workflow.add_conditional_edges(\"classify\", lambda s: s[\"intent\"], {\n",
        "    \"rag\": \"rag\",\n",
        "    \"llm\": \"llm\"\n",
        "})\n",
        "workflow.add_edge(\"rag\", \"evaluate\")\n",
        "workflow.add_edge(\"llm\", \"evaluate\")\n",
        "workflow.add_conditional_edges(\"evaluate\", loop_or_end, {\n",
        "    \"classify\": \"classify\",\n",
        "    \"end\": END\n",
        "})\n",
        "\n",
        "app = workflow.compile()"
      ],
      "metadata": {
        "id": "1zgS9r21Qdez"
      },
      "execution_count": null,
      "outputs": []
    },
    {
      "cell_type": "code",
      "source": [
        "input_state = {\"input\": \"RAGについて説明して。\"}\n",
        "for s in app.stream(input_state):\n",
        "  print(s)"
      ],
      "metadata": {
        "id": "g_g31Q5fQgsv"
      },
      "execution_count": null,
      "outputs": []
    },
    {
      "cell_type": "code",
      "source": [
        "# 必要なパッケージをインストール\n",
        "!apt-get install -y graphviz libgraphviz-dev pkg-config\n",
        "!pip install pygraphviz"
      ],
      "metadata": {
        "id": "G4G5w0zwQiQD"
      },
      "execution_count": null,
      "outputs": []
    },
    {
      "cell_type": "code",
      "source": [
        "from IPython.display import Image\n",
        "\n",
        "# グラフの描画\n",
        "Image(app.get_graph().draw_png())"
      ],
      "metadata": {
        "id": "MRSRqA6LQkBx"
      },
      "execution_count": null,
      "outputs": []
    },
    {
      "cell_type": "code",
      "source": [],
      "metadata": {
        "id": "mB9f_s3xZEU1"
      },
      "execution_count": null,
      "outputs": []
    }
  ]
}